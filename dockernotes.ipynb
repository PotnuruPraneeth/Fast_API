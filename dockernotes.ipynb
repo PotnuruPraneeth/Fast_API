{
 "cells": [
  {
   "cell_type": "markdown",
   "id": "9c0397da",
   "metadata": {},
   "source": [
    "FROM python:3.11-slim\n",
    "👉 Use the base image: Start with a lightweight version of Python 3.11.\n",
    "(This is like installing Python in your container.)"
   ]
  },
  {
   "cell_type": "markdown",
   "id": "409e59d7",
   "metadata": {},
   "source": [
    "WORKDIR /app\n",
    "👉 Set working directory: Inside the container, work in the /app folder.\n",
    "(All next commands will run in this folder.)\n"
   ]
  },
  {
   "cell_type": "markdown",
   "id": "cfb563a9",
   "metadata": {},
   "source": [
    "dockerfile\n",
    "\n",
    "COPY requirements.txt .\n",
    "👉 Copy requirements.txt from your local machine to the container’s /app folder."
   ]
  },
  {
   "cell_type": "markdown",
   "id": "9d7efba7",
   "metadata": {},
   "source": [
    "dockerfile\n",
    "\n",
    "RUN pip install --no-cache-dir -r requirements.txt\n",
    "👉 Install dependencies listed in requirements.txt using pip.\n",
    "--no-cache-dir keeps the image small by not saving temporary pip files."
   ]
  },
  {
   "cell_type": "markdown",
   "id": "92efcaab",
   "metadata": {},
   "source": [
    "dockerfile\n",
    "COPY . .\n",
    "👉 Copy all your project files (like Python files, FastAPI app, etc.) into the container.\n"
   ]
  },
  {
   "cell_type": "markdown",
   "id": "dcff54e4",
   "metadata": {},
   "source": [
    "dockerfile\n",
    "EXPOSE 8000\n",
    "👉 Tell Docker that your app runs on port 8000 (used by FastAPI or Uvicorn)."
   ]
  },
  {
   "cell_type": "markdown",
   "id": "47511887",
   "metadata": {},
   "source": [
    "dockerfile\n",
    "CMD [\"uvicorn\", \"main:app\", \"--host\", \"0.0.0.0\", \"--port\", \"8000\"]\n",
    "👉 Run your app using Uvicorn, which is the server for FastAPI."
   ]
  },
  {
   "cell_type": "markdown",
   "id": "2f8d6a7c",
   "metadata": {},
   "source": [
    "| Part             | Meaning                                           |\n",
    "| ---------------- | ------------------------------------------------- |\n",
    "| `main:app`       | `main.py` file with a FastAPI object called `app` |\n",
    "| `--host 0.0.0.0` | Allow access from outside the container           |\n",
    "| `--port 8000`    | Run on port 8000                                  |\n"
   ]
  },
  {
   "cell_type": "markdown",
   "id": "4730ba05",
   "metadata": {},
   "source": [
    "It creates a container that:\n",
    "\n",
    "1. Uses Python 3.11\n",
    "2. Installs your app dependencies\n",
    "3. Copies your code into the container\n",
    "4. Runs your FastAPI app with uvicorn on port 8000"
   ]
  },
  {
   "cell_type": "markdown",
   "id": "97d5adb2",
   "metadata": {},
   "source": [
    "host means \n",
    "Accept connections from any IP address "
   ]
  },
  {
   "cell_type": "markdown",
   "id": "e0d3041c",
   "metadata": {},
   "source": [
    "| Host IP       | Meaning                                                               |\n",
    "| ------------- | --------------------------------------------------------------------- |\n",
    "| `127.0.0.1`   | Localhost only → only the same machine (or container) can access it (may be app or web browser)  |\n",
    "| `0.0.0.0`     | Any IP → allows other devices (your browser, mobile, etc.) to connect |\n",
    "| `192.168.x.x` | Specific local IP → only that device can access                       |\n"
   ]
  },
  {
   "cell_type": "markdown",
   "id": "28d3697f",
   "metadata": {},
   "source": [
    "| Port Number | Common Use                                    |\n",
    "| ----------- | --------------------------------------------- |\n",
    "| 80          | Websites (HTTP)                               |\n",
    "| 443         | Secure websites (HTTPS)                       |\n",
    "| 3306        | MySQL database                                |\n",
    "| **8000**    | Common for development servers (like FastAPI) |\n"
   ]
  },
  {
   "cell_type": "markdown",
   "id": "de211831",
   "metadata": {},
   "source": [
    "Your computer can run many apps at the same time. But to send data to the right app, the system uses ports to distinguish them.\n",
    "\n",
    "The IP address says “which computer?”\n",
    "The Port number says “which app inside that computer?”"
   ]
  },
  {
   "cell_type": "markdown",
   "id": "7dcfef61",
   "metadata": {},
   "source": [
    "http://localhost:8000\n",
    "localhost = your own computer (the building)\n",
    "8000 = the port (the office room number) where your FastAPI app is waiting\n",
    "1. Without ports…\n",
    "If your computer had no ports, all apps would try to use the same “room” and get confused!\n",
    "2. If multiple servers try to use the same port on the same machine, it will cause a conflict, and only one can bind to that port."
   ]
  },
  {
   "cell_type": "markdown",
   "id": "98eebf5d",
   "metadata": {},
   "source": [
    "1. Ports are like numbered mailboxes\n",
    "Your computer’s OS sets up 65,535 mailboxes (ports) numbered from 0 to 65535.\n",
    "Each port is like a mailbox where apps can receive messages (network data).\n",
    "\n",
    "2. Only one app can “own” (listen on) a port at a time\n",
    "When an app (like FastAPI) starts, it asks the OS for a port to listen on (say port 8000).\n",
    "\n",
    "The OS checks if port 8000 is free:\n",
    "\n",
    "If free, OS lets the app use that port.\n",
    "\n",
    "If busy (another app is already using it), OS refuses and the app fails to start on that port.\n",
    "\n",
    "3. Apps send and receive data through their ports\n",
    "When data arrives at your computer’s IP on port 8000, OS routes it to the app listening on port 8000.\n",
    "\n",
    "If the data comes for port 3000, OS routes it to the app listening there.\n",
    "\n",
    "4. Ports help OS direct traffic correctly\n",
    "Without ports, your computer wouldn’t know which app to send incoming data to — it’d be a big traffic jam.\n",
    "\n",
    "5. Reserved ports and user ports\n",
    "Ports 0-1023 are “reserved” for well-known services (like HTTP on 80, HTTPS on 443).\n",
    "\n",
    "Ports 1024-65535 are usually for user apps (like your FastAPI on 8000).\n",
    "\n",
    "| Computer IP  | Ports & Apps                      |\n",
    "| ------------ | --------------------------------- |\n",
    "| 192.168.1.10 | FastAPI on port 8000              |\n",
    "| 192.168.1.11 | Another FastAPI also on port 8000 |"
   ]
  },
  {
   "cell_type": "markdown",
   "id": "fa3645cf",
   "metadata": {},
   "source": [
    "1. router\n",
    "| Function            | What it means                                   |\n",
    "| ------------------- | ----------------------------------------------- |\n",
    "| Connect devices     | Links all your devices to internet & each other |\n",
    "| Assign local IPs    | Gives devices unique local addresses            |\n",
    "| Translate IPs (NAT) | Shares one public IP for many devices           |\n",
    "| Forward data        | Sends incoming & outgoing data properly         |\n",
    "| Provide security    | Protects network from outside threats           |\n",
    "Router routes data for all connected devices.\n",
    "1. It doesn’t matter if you’re on Wi-Fi or Ethernet — router is the central hub.\n",
    "So the router manages both wired and wireless connections.\n",
    "2. Your laptop, phone, smart TV, or printer can connect wirelessly (Wi-Fi).\n",
    "Your desktop PC or smart TV can also connect with a cable (Ethernet) plugged into the router.\n",
    "Yes, the router lets your devices access the internet by managing data between your local network and the outside world"
   ]
  },
  {
   "cell_type": "markdown",
   "id": "047c5cd6",
   "metadata": {},
   "source": [
    " *** WIFI \n",
    " \n",
    " 1. Running FastAPI on your own computer (localhost)\n",
    "You do not need Wi-Fi.\n",
    "\n",
    "FastAPI can run offline — it works on your local system (127.0.0.1:8000).\n",
    "\n",
    "Great for development and testing.\n",
    "\n",
    "2. Accessing FastAPI from other devices\n",
    "You need Wi-Fi (or network) when:\n",
    "\n",
    "You want to access your FastAPI app from your phone, another laptop, or any other device.\n",
    "\n",
    "All devices must be on the same Wi-Fi network, or you must deploy to the cloud.\n",
    "***exp:\n",
    "    Example:\n",
    "Your laptop is running FastAPI on 192.168.1.10:8000.\n",
    "Your phone (on the same Wi-Fi) can visit that IP and port in a browser.\n",
    "\n",
    " 3. Hosting FastAPI on the cloud\n",
    "You need Wi-Fi (or internet connection) to:\n",
    "\n",
    "Deploy your FastAPI app to cloud servers (like AWS, Render, or Railway).\n",
    "\n",
    "Access it from anywhere in the world"
   ]
  },
  {
   "cell_type": "markdown",
   "id": "e1bb576f",
   "metadata": {},
   "source": [
    "| Situation                          | Wi-Fi/Internet Needed? |\n",
    "| ---------------------------------- | ---------------------- |\n",
    "| Running locally (localhost)        | ❌ Not needed           |\n",
    "| Accessing from other local devices | ✅ Yes (same network)   |\n",
    "| Hosting in the cloud               | ✅ Yes                  |"
   ]
  },
  {
   "cell_type": "markdown",
   "id": "28ff9128",
   "metadata": {},
   "source": [
    "Why Can Your Phone Access FastAPI from Your Laptop with same wifi?\n",
    "Because they are on the same Wi-Fi network and your FastAPI is running on a public IP + port that is accessible from that network.\n",
    "📱 Your phone is also on the same Wi-Fi, so it's in the same local network — like a neighbor.\n",
    "http://192.168.1.10:8000\n",
    "...and it will connect to your FastAPI app running on your laptop.\n",
    "| Requirement                       | Why it matters                                  |\n",
    "| --------------------------------- | ----------------------------------------------- |\n",
    "| `--host 0.0.0.0` in uvicorn       | Makes your FastAPI app visible to other devices |\n",
    "| Devices are on the **same Wi-Fi** | So they can find each other using local IPs     |\n",
    "| Firewall allows port 8000         | So nothing blocks the connection                |\n"
   ]
  },
  {
   "cell_type": "markdown",
   "id": "e80fbe4d",
   "metadata": {},
   "source": [
    "🏡 Analogy:\n",
    "Imagine your Wi-Fi router is a house, and:\n",
    "\n",
    "Laptop = Room 10\n",
    "\n",
    "Phone = Room 12\n",
    "\n",
    "You (FastAPI) are yelling “Hey, I'm in Room 10 at Port 8000!”\n",
    "\n",
    "Your phone hears it and knocks at Room 10, Port 8000 to get data."
   ]
  },
  {
   "cell_type": "markdown",
   "id": "5671039d",
   "metadata": {},
   "source": [
    "Use Cloud Hosting Platforms (can access throug internet )\n",
    "Host your FastAPI app on:\n",
    "| Platform                 | Free Tier? | Notes                                       |\n",
    "| ------------------------ | ---------- | ------------------------------------------- |\n",
    "| **Render**               | ✅          | Easy for beginners, supports FastAPI well   |\n",
    "| **Railway**              | ✅          | Simple deployment, free tier available      |\n",
    "| **Vercel** (via adapter) | ✅          | Needs adapter for FastAPI (like Serverless) |\n",
    "| **AWS / GCP / Azure**    | 🚫/✅       | More complex, full control                  |"
   ]
  },
  {
   "cell_type": "markdown",
   "id": "def1b0fd",
   "metadata": {},
   "source": [
    " ** internet\n",
    " 1. The internet helps your app or device communicate with servers anywhere in the world.\n",
    "2.  You create a FastAPI app and host it on a server (like in the cloud).\n",
    "Someone else (or you) uses a browser or mobile app from another location.\n",
    "The internet is the highway that connects the user to your server.\n"
   ]
  },
  {
   "cell_type": "markdown",
   "id": "57af1abc",
   "metadata": {},
   "source": [
    "| Step | What Happens                                                                  |\n",
    "| ---- | ----------------------------------------------------------------------------- |\n",
    "| 1️⃣  | You open an app or browser and enter a URL (like `https://myapi.com`)         |\n",
    "| 2️⃣  | Your device sends a **request** over the internet to that **server**          |\n",
    "| 3️⃣  | The server (running FastAPI) receives it and **processes the request**        |\n",
    "| 4️⃣  | The server sends back a **response** (like data, HTML, etc.) via the internet |\n",
    "| 5️⃣  | You see the result on your screen (like weather, login success, etc.)         |\n",
    "The internet is like a messenger or delivery system that carries data between:\n",
    "Your app/client (frontend)\n",
    "And your server/API (backend, like FastAPI)"
   ]
  },
  {
   "cell_type": "markdown",
   "id": "42d96fd8",
   "metadata": {},
   "source": [
    "*** difference of dockerfile and docker-compose.yml\n",
    "| Tool                   | Purpose                                                                        | Scope             |\n",
    "| ---------------------- | ------------------------------------------------------------------------------ | ----------------- |\n",
    "| **Dockerfile**         | Defines how to build a single container (e.g., your FastAPI app)               | One service       |\n",
    "| **docker-compose.yml** | Manages multiple containers and how they interact (e.g., FastAPI + Redis + DB) | Multiple services |\n"
   ]
  },
  {
   "cell_type": "markdown",
   "id": "80584dbb",
   "metadata": {},
   "source": [
    "1. Then docker-compose up will:\n",
    "Build and run FastAPI on port 8000\n",
    "Start Redis\n",
    "Let FastAPI connect to Redis using the name redis"
   ]
  },
  {
   "cell_type": "markdown",
   "id": "6486a3bd",
   "metadata": {},
   "source": [
    "✅ docker-compose down \n",
    "2. Remove the containers\n",
    "It deletes the containers — not just stops them — so they won’t be running or using resources.\n",
    "but the image and volues remains\n",
    "| Command               | What it Does                       |\n",
    "| --------------------- | ---------------------------------- |\n",
    "| `docker-compose stop` | Just stops containers (keeps them) |\n",
    "| `docker-compose down` | Stops and **removes** everything   |"
   ]
  },
  {
   "cell_type": "markdown",
   "id": "79e298e6",
   "metadata": {},
   "source": [
    "| Concept   | What it is               | Example                       |\n",
    "| --------- | ------------------------ | ----------------------------- |\n",
    "| Image     | Blueprint of your app    | `python:3.11`, `myapp:latest` |\n",
    "| Container | Running copy of an image | Runs your FastAPI app         |\n",
    "| Volume    | Persistent data storage  | Stores DB, uploads, cache     |"
   ]
  },
  {
   "cell_type": "markdown",
   "id": "3094160f",
   "metadata": {},
   "source": [
    "| Section       | Purpose                                                           |\n",
    "| ------------- | ----------------------------------------------------------------- |\n",
    "| `version`     | Compose file format version (3.8 is stable for most projects)     |\n",
    "| `services`    | All the containers you want to run (FastAPI app, DB, Redis, etc.) |\n",
    "| `build`       | Build from a Dockerfile in the current directory                  |\n",
    "| `image`       | Use a predefined Docker image (e.g., `mysql:8`)                   |\n",
    "| `ports`       | Maps ports: `host:container` (e.g., `8000:8000`)                  |\n",
    "| `depends_on`  | Ensures this service starts **after** the mentioned service(s)    |\n",
    "| `environment` | Environment variables to pass into the container                  |\n",
    "| `volumes`     | Named volumes to persist data (like database data)                |"
   ]
  }
 ],
 "metadata": {
  "language_info": {
   "name": "python"
  }
 },
 "nbformat": 4,
 "nbformat_minor": 5
}
