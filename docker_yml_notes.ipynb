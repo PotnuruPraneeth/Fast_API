{
 "cells": [
  {
   "cell_type": "markdown",
   "id": "6c30a93e",
   "metadata": {},
   "source": [
    "#may be DATABASE_URL=\"mysql+pymysql://root@localhost:3306/moviesdb\"\n",
    "#| Step | What You Do                 | Command                                        |\n",
    "#| ---- | --------------------------- | ---------------------------------------------- |\n",
    "#| 1    | Start Docker (MySQL)      | `docker-compose up --build`      (1)              |\n",
    "#         (In terminal 1 without .venv)  \n",
    "#| 2    | Open new terminal 2 with(venv) | `cd your/project/path`                         |\n",
    "#| 3    | Activate venv               | `.\\.venv\\Scripts\\activate`                     |\n",
    "#| 4    | Start FastAPI (development) | `uvicorn main:app --reload`         (2)           |\n",
    "#| 5    | Open browser                | [http://127.0.0.1:8000](http://127.0.0.1:8000) |\n",
    "\n",
    "#| Variable              | Purpose                                                                                          |\n",
    "#| --------------------- | ------------------------------------------------------------------------------------------------ |\n",
    "#| `MYSQL_ROOT_PASSWORD` | Sets the password for the **`root` user** in the container (✅ required).                         |\n",
    "#| `MYSQL_DATABASE`      | Creates a **database** named `moviesdb` at startup.                                              |\n",
    "#| `MYSQL_USER`          | Creates a **new user** (in this case, also `root`) — ⚠️ confusing because `root` already exists. |\n",
    "#| `MYSQL_PASSWORD`      | Sets the password for the `MYSQL_USER`.                                                          |\n",
    "\n",
    "#docker compose down -v\n",
    "#docker compose up --build\n",
    "# # Use 'moviesdb' as hostname because this container connects to MySQL inside Docker network'''\n",
    "#You're encountering a ConnectionRefusedError when your movies service (FastAPI app) tries to connect to the MySQL database (moviesdb).\n",
    "#This is a common issue when the app starts before the database is ready to accept connections. so Add wait-for-it.sh script\n",
    "#command: [\"/wait-for-it.sh\", \"moviesdb:3306\", \"--\", \"uvicorn\", \"main:app\", \"--host\", \"0.0.0.0\", \"--port\", \"8000\"]\n",
    "\n",
    "#running mysql inside the containner\n",
    "#version: '3.9'  # Docker Compose file format version\n",
    "\n",
    "#services:\n",
    "#  service_name:\n",
    "#    build: .  # Build Docker image from current directory (using Dockerfile)\n",
    "#    container_name: container_name_here  # Optional: name for the container\n",
    "#    ports:\n",
    "#     - \"host_port:container_port\"  # Map port on host to container (e.g., 8000:8000)\n",
    "#   environment:\n",
    "#     - VAR_NAME=value  # Set environment variables (e.g., DB_PASSWORD=secret)\n",
    "#  volumes:\n",
    "#     - ./host_folder:/container_folder  # Mount local volume to container\n",
    "#  depends_on:\n",
    " #     - another_service  # Start this service only after the other service is up\n",
    "\n",
    " # another_service:\n",
    "  #  image: some_image:tag  # Pull image from Docker Hub\n",
    "  #  ports:\n",
    "  #    - \"host_port:container_port\"\n",
    "\n",
    "#build: tells Docker Compose to build an image instead of pulling it from Docker Hub.\n",
    "#. (dot) means \"use the current folder\" as the build context — it should contain a Dockerfile."
   ]
  }
 ],
 "metadata": {
  "language_info": {
   "name": "python"
  }
 },
 "nbformat": 4,
 "nbformat_minor": 5
}
